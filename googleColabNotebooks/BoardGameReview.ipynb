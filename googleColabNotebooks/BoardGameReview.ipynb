{
  "nbformat": 4,
  "nbformat_minor": 0,
  "metadata": {
    "colab": {
      "name": "BoardGameReview.ipynb",
      "version": "0.3.2",
      "provenance": [],
      "include_colab_link": true
    },
    "kernelspec": {
      "name": "python3",
      "display_name": "Python 3"
    }
  },
  "cells": [
    {
      "cell_type": "markdown",
      "metadata": {
        "id": "view-in-github",
        "colab_type": "text"
      },
      "source": [
        "<a href=\"https://colab.research.google.com/github/ayushnigamsworld/mlNotez/blob/master/googleColabNotebooks/BoardGameReview.ipynb\" target=\"_parent\"><img src=\"https://colab.research.google.com/assets/colab-badge.svg\" alt=\"Open In Colab\"/></a>"
      ]
    },
    {
      "cell_type": "code",
      "metadata": {
        "id": "hw5I03QSgaUz",
        "colab_type": "code",
        "colab": {}
      },
      "source": [
        "import pandas as pd\n",
        "import matplotlib\n",
        "import seaborn\n",
        "import sklearn\n",
        "pd.set_option('display.max_columns', 100)\n",
        "pd.set_option('display.width', 1000)"
      ],
      "execution_count": 0,
      "outputs": []
    },
    {
      "cell_type": "code",
      "metadata": {
        "id": "XV3oHLozpH6P",
        "colab_type": "code",
        "colab": {}
      },
      "source": [
        "import matplotlib.pyplot as plt\n",
        "import seaborn as sns\n",
        "from sklearn.model_selection import train_test_split"
      ],
      "execution_count": 0,
      "outputs": []
    },
    {
      "cell_type": "code",
      "metadata": {
        "id": "RYr6CkV0ppxm",
        "colab_type": "code",
        "colab": {}
      },
      "source": [
        "games = pd.read_csv('games.csv')"
      ],
      "execution_count": 0,
      "outputs": []
    },
    {
      "cell_type": "code",
      "metadata": {
        "id": "GXXTzpvcp4No",
        "colab_type": "code",
        "colab": {
          "base_uri": "https://localhost:8080/",
          "height": 137
        },
        "outputId": "414026bd-5bde-44f1-e51b-8e17e70f8ac8"
      },
      "source": [
        "print(games.head())\n",
        "#print(games.tail())\n",
        "#print(games)"
      ],
      "execution_count": 62,
      "outputs": [
        {
          "output_type": "stream",
          "text": [
            "       id       type                                       name  yearpublished  minplayers  maxplayers  playingtime  minplaytime  maxplaytime  minage  users_rated  average_rating  bayes_average_rating  total_owners  total_traders  total_wanters  total_wishers  total_comments  total_weights  average_weight\n",
            "0   12333  boardgame                          Twilight Struggle         2005.0         2.0         2.0        180.0        180.0        180.0    13.0        20113         8.33774               8.22186         26647            372           1219           5865            5347           2562          3.4785\n",
            "1  120677  boardgame                              Terra Mystica         2012.0         2.0         5.0        150.0         60.0        150.0    12.0        14383         8.28798               8.14232         16519            132           1586           6277            2526           1423          3.8939\n",
            "2  102794  boardgame                  Caverna: The Cave Farmers         2013.0         1.0         7.0        210.0         30.0        210.0    12.0         9262         8.28994               8.06886         12230             99           1476           5600            1700            777          3.7761\n",
            "3   25613  boardgame  Through the Ages: A Story of Civilization         2006.0         2.0         4.0        240.0        240.0        240.0    12.0        13294         8.20407               8.05804         14343            362           1084           5075            3378           1642          4.1590\n",
            "4    3076  boardgame                                Puerto Rico         2002.0         2.0         5.0        150.0         90.0        150.0    12.0        39883         8.14261               8.04524         44362            795            861           5414            9173           5213          3.2943\n"
          ],
          "name": "stdout"
        }
      ]
    },
    {
      "cell_type": "code",
      "metadata": {
        "id": "7FNdCmXp_4zO",
        "colab_type": "code",
        "colab": {
          "base_uri": "https://localhost:8080/",
          "height": 269
        },
        "outputId": "7b70db33-e521-4625-da5b-60b7dac9e374"
      },
      "source": [
        "#histogram of average_rating column\n",
        "plt.hist(games['average_rating'])\n",
        "plt.show()"
      ],
      "execution_count": 63,
      "outputs": [
        {
          "output_type": "display_data",
          "data": {
            "image/png": "[encoded data removed]",
            "text/plain": [
              "<Figure size 432x288 with 1 Axes>"
            ]
          },
          "metadata": {
            "tags": []
          }
        }
      ]
    },
    {
      "cell_type": "code",
      "metadata": {
        "id": "NCZ8CwlVAdYw",
        "colab_type": "code",
        "colab": {
          "base_uri": "https://localhost:8080/",
          "height": 719
        },
        "outputId": "2964a343-e699-4609-888d-a9e146028ea0"
      },
      "source": [
        "#get zero score games\n",
        " print(games[games['average_rating'] == 0].iloc[0])\n",
        "  \n",
        " print(games[games['average_rating'] > 0].iloc[0]) "
      ],
      "execution_count": 64,
      "outputs": [
        {
          "output_type": "stream",
          "text": [
            "id                             318\n",
            "type                     boardgame\n",
            "name                    Looney Leo\n",
            "yearpublished                    0\n",
            "minplayers                       0\n",
            "maxplayers                       0\n",
            "playingtime                      0\n",
            "minplaytime                      0\n",
            "maxplaytime                      0\n",
            "minage                           0\n",
            "users_rated                      0\n",
            "average_rating                   0\n",
            "bayes_average_rating             0\n",
            "total_owners                     0\n",
            "total_traders                    0\n",
            "total_wanters                    0\n",
            "total_wishers                    1\n",
            "total_comments                   0\n",
            "total_weights                    0\n",
            "average_weight                   0\n",
            "Name: 13048, dtype: object\n",
            "id                                  12333\n",
            "type                            boardgame\n",
            "name                    Twilight Struggle\n",
            "yearpublished                        2005\n",
            "minplayers                              2\n",
            "maxplayers                              2\n",
            "playingtime                           180\n",
            "minplaytime                           180\n",
            "maxplaytime                           180\n",
            "minage                                 13\n",
            "users_rated                         20113\n",
            "average_rating                    8.33774\n",
            "bayes_average_rating              8.22186\n",
            "total_owners                        26647\n",
            "total_traders                         372\n",
            "total_wanters                        1219\n",
            "total_wishers                        5865\n",
            "total_comments                       5347\n",
            "total_weights                        2562\n",
            "average_weight                     3.4785\n",
            "Name: 0, dtype: object\n"
          ],
          "name": "stdout"
        }
      ]
    },
    {
      "cell_type": "code",
      "metadata": {
        "id": "kNu7XNDORFBC",
        "colab_type": "code",
        "colab": {
          "base_uri": "https://localhost:8080/",
          "height": 269
        },
        "outputId": "6c2cfb59-14d9-4b94-f951-661ef5873252"
      },
      "source": [
        "#remove games which hv not been rated\n",
        "games = games[games['users_rated'] > 0]\n",
        "\n",
        "#remove rows with any missing values\n",
        "games = games.dropna(axis=0)\n",
        "#print(games)\n",
        "\n",
        "plt.hist(games['average_rating'])\n",
        "plt.show()"
      ],
      "execution_count": 65,
      "outputs": [
        {
          "output_type": "display_data",
          "data": {
            "image/png": "[encoded data removed]",
            "text/plain": [
              "<Figure size 432x288 with 1 Axes>"
            ]
          },
          "metadata": {
            "tags": []
          }
        }
      ]
    },
    {
      "cell_type": "code",
      "metadata": {
        "id": "sMXmKVTaRPTd",
        "colab_type": "code",
        "colab": {
          "base_uri": "https://localhost:8080/",
          "height": 53
        },
        "outputId": "6c5ebcbd-4596-4414-8ca2-f18323d6fbd2"
      },
      "source": [
        "print(games.columns)"
      ],
      "execution_count": 66,
      "outputs": [
        {
          "output_type": "stream",
          "text": [
            "Index(['id', 'type', 'name', 'yearpublished', 'minplayers', 'maxplayers', 'playingtime', 'minplaytime', 'maxplaytime', 'minage', 'users_rated', 'average_rating', 'bayes_average_rating', 'total_owners', 'total_traders', 'total_wanters', 'total_wishers', 'total_comments', 'total_weights', 'average_weight'], dtype='object')\n"
          ],
          "name": "stdout"
        }
      ]
    },
    {
      "cell_type": "code",
      "metadata": {
        "id": "wAE3eRbgUy82",
        "colab_type": "code",
        "colab": {
          "base_uri": "https://localhost:8080/",
          "height": 641
        },
        "outputId": "14fbca05-4ae7-4fd6-e546-ad5d99211a7d"
      },
      "source": [
        "# correlation matrix can tell us if there is some relation between the columns\n",
        "\n",
        "corrmat = games.corr()\n",
        "\n",
        "fig = plt.figure(figsize = (12, 9))\n",
        "\n",
        "sns.heatmap(corrmat, vmax= .8, square= True)\n",
        "plt.show()"
      ],
      "execution_count": 67,
      "outputs": [
        {
          "output_type": "display_data",
          "data": {
            "image/png": "[encoded data removed]",
            "text/plain": [
              "<Figure size 864x648 with 2 Axes>"
            ]
          },
          "metadata": {
            "tags": []
          }
        }
      ]
    },
    {
      "cell_type": "code",
      "metadata": {
        "id": "NAf96KIHWvYF",
        "colab_type": "code",
        "colab": {}
      },
      "source": [
        "# get all columns and filter columns to remove data we do not want\n",
        "\n",
        "columns = games.columns.tolist()\n",
        "\n",
        "# remove columns which maybe highly correlated but not want, so can give wrong info, also since we need to predict average rating so remove that, also type and name dont affect\n",
        "columns = [c for c in columns if c not in ['bayes_average_rating', 'average_rating', 'type', 'name', 'id']]\n",
        "\n",
        "# store target\n",
        "target = 'average_rating'"
      ],
      "execution_count": 0,
      "outputs": []
    },
    {
      "cell_type": "code",
      "metadata": {
        "id": "S0d9nDTbZJg3",
        "colab_type": "code",
        "colab": {
          "base_uri": "https://localhost:8080/",
          "height": 53
        },
        "outputId": "dc0a2229-cdda-4f5d-a14d-da0a952c6521"
      },
      "source": [
        "print(columns)"
      ],
      "execution_count": 69,
      "outputs": [
        {
          "output_type": "stream",
          "text": [
            "['yearpublished', 'minplayers', 'maxplayers', 'playingtime', 'minplaytime', 'maxplaytime', 'minage', 'users_rated', 'total_owners', 'total_traders', 'total_wanters', 'total_wishers', 'total_comments', 'total_weights', 'average_weight']\n"
          ],
          "name": "stdout"
        }
      ]
    },
    {
      "cell_type": "code",
      "metadata": {
        "id": "sLNfnOGAZMiu",
        "colab_type": "code",
        "colab": {
          "base_uri": "https://localhost:8080/",
          "height": 50
        },
        "outputId": "7978c180-177d-4433-aab2-6e28ad4b57b4"
      },
      "source": [
        "# training test\n",
        "from sklearn.model_selection import train_test_split\n",
        "\n",
        "# generate training set\n",
        "train = games.sample(frac=0.8, random_state=1)\n",
        "\n",
        "test = games.loc[~games.index.isin(train.index)]\n",
        "\n",
        "print(train.shape)\n",
        "print(test.shape)"
      ],
      "execution_count": 70,
      "outputs": [
        {
          "output_type": "stream",
          "text": [
            "(45515, 20)\n",
            "(11379, 20)\n"
          ],
          "name": "stdout"
        }
      ]
    },
    {
      "cell_type": "code",
      "metadata": {
        "id": "DS2g2Q6hZwiA",
        "colab_type": "code",
        "colab": {
          "base_uri": "https://localhost:8080/",
          "height": 33
        },
        "outputId": "979289b0-1aef-4846-f8d3-12905c649178"
      },
      "source": [
        "# linear regression\n",
        "from sklearn.linear_model import LinearRegression\n",
        "from sklearn.metrics import mean_squared_error\n",
        "\n",
        "LR = LinearRegression()\n",
        "\n",
        "#fitting data\n",
        "LR.fit(train[columns], train[target])"
      ],
      "execution_count": 71,
      "outputs": [
        {
          "output_type": "execute_result",
          "data": {
            "text/plain": [
              "LinearRegression(copy_X=True, fit_intercept=True, n_jobs=None, normalize=False)"
            ]
          },
          "metadata": {
            "tags": []
          },
          "execution_count": 71
        }
      ]
    },
    {
      "cell_type": "code",
      "metadata": {
        "id": "nSewRkwjdzFr",
        "colab_type": "code",
        "colab": {
          "base_uri": "https://localhost:8080/",
          "height": 33
        },
        "outputId": "f639d669-0ab6-44c7-8bb5-70096ed34ee6"
      },
      "source": [
        "# generate predictions for test set\n",
        "predictions = LR.predict(test[columns])\n",
        "\n",
        "#error\n",
        "mean_squared_error(predictions, test[target])"
      ],
      "execution_count": 72,
      "outputs": [
        {
          "output_type": "execute_result",
          "data": {
            "text/plain": [
              "2.078819032629323"
            ]
          },
          "metadata": {
            "tags": []
          },
          "execution_count": 72
        }
      ]
    },
    {
      "cell_type": "code",
      "metadata": {
        "id": "ChZeBpOWeIwW",
        "colab_type": "code",
        "colab": {
          "base_uri": "https://localhost:8080/",
          "height": 134
        },
        "outputId": "3eb2f472-ec85-4552-9e17-15254069b865"
      },
      "source": [
        "from sklearn.ensemble import RandomForestRegressor\n",
        "\n",
        "RFR= RandomForestRegressor(n_estimators=100, min_samples_leaf=10, random_state=1)\n",
        "\n",
        "RFR.fit(train[columns], train[target])"
      ],
      "execution_count": 73,
      "outputs": [
        {
          "output_type": "execute_result",
          "data": {
            "text/plain": [
              "RandomForestRegressor(bootstrap=True, criterion='mse', max_depth=None,\n",
              "                      max_features='auto', max_leaf_nodes=None,\n",
              "                      min_impurity_decrease=0.0, min_impurity_split=None,\n",
              "                      min_samples_leaf=10, min_samples_split=2,\n",
              "                      min_weight_fraction_leaf=0.0, n_estimators=100,\n",
              "                      n_jobs=None, oob_score=False, random_state=1, verbose=0,\n",
              "                      warm_start=False)"
            ]
          },
          "metadata": {
            "tags": []
          },
          "execution_count": 73
        }
      ]
    },
    {
      "cell_type": "code",
      "metadata": {
        "id": "vPzmJ4Sv-6pc",
        "colab_type": "code",
        "colab": {
          "base_uri": "https://localhost:8080/",
          "height": 33
        },
        "outputId": "e95ab813-d69e-4223-97fd-33ef2eefb31a"
      },
      "source": [
        "predictions = RFR.predict(test[columns])\n",
        "\n",
        "mean_squared_error(predictions, test[target])"
      ],
      "execution_count": 74,
      "outputs": [
        {
          "output_type": "execute_result",
          "data": {
            "text/plain": [
              "1.4458560046071653"
            ]
          },
          "metadata": {
            "tags": []
          },
          "execution_count": 74
        }
      ]
    },
    {
      "cell_type": "code",
      "metadata": {
        "id": "7bbb1hVM_Kyr",
        "colab_type": "code",
        "colab": {
          "base_uri": "https://localhost:8080/",
          "height": 50
        },
        "outputId": "0756150b-c8ca-40cf-812d-0e06ecbfe05d"
      },
      "source": [
        "#test[columns].shape\n",
        "print(test[columns].iloc[0].values.shape)\n",
        "print(test[columns].iloc[0].values.reshape(1, -1).shape)"
      ],
      "execution_count": 89,
      "outputs": [
        {
          "output_type": "stream",
          "text": [
            "(15,)\n",
            "(1, 15)\n"
          ],
          "name": "stdout"
        }
      ]
    },
    {
      "cell_type": "code",
      "metadata": {
        "id": "NylDT5LC_V2h",
        "colab_type": "code",
        "colab": {
          "base_uri": "https://localhost:8080/",
          "height": 50
        },
        "outputId": "06e5fe47-d68b-467e-b777-dacfe17cc164"
      },
      "source": [
        "rating_LR =  LR.predict(test[columns].iloc[0].values.reshape(1, -1))\n",
        "rating_RFR =  RFR.predict(test[columns].iloc[0].values.reshape(1, -1))\n",
        "\n",
        "\n",
        "print(rating_LR)\n",
        "print(rating_RFR)  v\n"
      ],
      "execution_count": 91,
      "outputs": [
        {
          "output_type": "stream",
          "text": [
            "[8.12061283]\n",
            "[7.91373581]\n"
          ],
          "name": "stdout"
        }
      ]
    },
    {
      "cell_type": "code",
      "metadata": {
        "id": "GpSRHpcg_wea",
        "colab_type": "code",
        "colab": {
          "base_uri": "https://localhost:8080/",
          "height": 33
        },
        "outputId": "a317c907-efa4-4d6e-bc4a-4aa64ae16a82"
      },
      "source": [
        "test[target].iloc[0]\n"
      ],
      "execution_count": 79,
      "outputs": [
        {
          "output_type": "execute_result",
          "data": {
            "text/plain": [
              "8.07933"
            ]
          },
          "metadata": {
            "tags": []
          },
          "execution_count": 79
        }
      ]
    },
    {
      "cell_type": "code",
      "metadata": {
        "id": "ajP_mGkSAlt_",
        "colab_type": "code",
        "colab": {}
      },
      "source": [
        ""
      ],
      "execution_count": 0,
      "outputs": []
    }
  ]
}