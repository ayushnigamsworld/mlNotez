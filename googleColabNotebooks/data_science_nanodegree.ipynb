{
  "nbformat": 4,
  "nbformat_minor": 0,
  "metadata": {
    "colab": {
      "name": "data-science-nanodegree.ipynb",
      "provenance": [],
      "collapsed_sections": [],
      "include_colab_link": true
    },
    "kernelspec": {
      "name": "python3",
      "display_name": "Python 3"
    }
  },
  "cells": [
    {
      "cell_type": "markdown",
      "metadata": {
        "id": "view-in-github",
        "colab_type": "text"
      },
      "source": [
        "<a href=\"https://colab.research.google.com/github/ayushnigamsworld/mlNotez/blob/colabNotebooks/googleColabNotebooks/data_science_nanodegree.ipynb\" target=\"_parent\"><img src=\"https://colab.research.google.com/assets/colab-badge.svg\" alt=\"Open In Colab\"/></a>"
      ]
    },
    {
      "cell_type": "markdown",
      "metadata": {
        "id": "QnaM7odl8C_d",
        "colab_type": "text"
      },
      "source": [
        "# **Linear Regression**"
      ]
    },
    {
      "cell_type": "code",
      "metadata": {
        "id": "_234huHblgsw",
        "colab_type": "code",
        "outputId": "da0e09e1-75d7-4ac1-979f-eb25c3d3eadf",
        "colab": {
          "base_uri": "https://localhost:8080/",
          "height": 184
        }
      },
      "source": [
        "import pandas as pd\n",
        "bmi_life_data = pd.read_csv('bmi.csv')\n",
        "type(bmi_life_data)\n",
        "print(bmi_life_data.describe())\n",
        "#print(bmi_life_data)\n",
        "print(type(bmi_life_data[['Life expectancy']]))"
      ],
      "execution_count": 0,
      "outputs": [
        {
          "output_type": "stream",
          "text": [
            "       Life expectancy         BMI\n",
            "count       163.000000  163.000000\n",
            "mean         69.666933   24.792378\n",
            "std           8.981933    2.427900\n",
            "min          44.500000   19.866920\n",
            "25%          63.450000   22.527940\n",
            "50%          71.800000   25.320540\n",
            "75%          76.500000   26.603960\n",
            "max          84.600000   30.995630\n",
            "<class 'pandas.core.frame.DataFrame'>\n"
          ],
          "name": "stdout"
        }
      ]
    },
    {
      "cell_type": "code",
      "metadata": {
        "id": "SjWWqUalpk77",
        "colab_type": "code",
        "outputId": "7b3b6abc-e16c-4695-8ac1-a1d2c0603d41",
        "colab": {
          "base_uri": "https://localhost:8080/",
          "height": 33
        }
      },
      "source": [
        "from sklearn.linear_model import LinearRegression\n",
        "bmi_life_model = LinearRegression()\n",
        "bmi_life_model.fit(bmi_life_data[['Life expectancy']], bmi_life_data[['BMI']])"
      ],
      "execution_count": 0,
      "outputs": [
        {
          "output_type": "execute_result",
          "data": {
            "text/plain": [
              "LinearRegression(copy_X=True, fit_intercept=True, n_jobs=None, normalize=False)"
            ]
          },
          "metadata": {
            "tags": []
          },
          "execution_count": 23
        }
      ]
    },
    {
      "cell_type": "code",
      "metadata": {
        "id": "NHQUF72o5aXb",
        "colab_type": "code",
        "outputId": "e6f6d5cb-56e5-4647-b857-cb27c91b54e8",
        "colab": {
          "base_uri": "https://localhost:8080/",
          "height": 33
        }
      },
      "source": [
        "laos_life_exp = bmi_life_model.predict([[21.07931]])\n",
        "laos_life_exp"
      ],
      "execution_count": 0,
      "outputs": [
        {
          "output_type": "execute_result",
          "data": {
            "text/plain": [
              "array([[15.85138014]])"
            ]
          },
          "metadata": {
            "tags": []
          },
          "execution_count": 29
        }
      ]
    },
    {
      "cell_type": "markdown",
      "metadata": {
        "id": "csTmegphlLTw",
        "colab_type": "text"
      },
      "source": [
        "# **Mulitple Linear Regression**"
      ]
    },
    {
      "cell_type": "code",
      "metadata": {
        "id": "FKsXj5TulIsa",
        "colab_type": "code",
        "colab": {}
      },
      "source": [
        "from sklearn.linear_model import LinearRegression\n",
        "from sklearn.datasets import load_boston\n",
        "import pandas as pd\n",
        "\n",
        "boston_data = load_boston()\n",
        "type(boston_data)\n",
        "data = pd.DataFrame(boston_data['data'], columns=['CRIM', 'ZN', 'INDUS', 'CHAS', 'NOX', 'RM', 'AGE', 'DIS', 'RAD', 'TAX', 'PTRATIO', 'B', 'LSTAT'])\n",
        "target = pd.DataFrame(boston_data['target'])\n",
        "data.describe()\n",
        "boston_data['feature_names']\n",
        "data"
      ],
      "execution_count": 0,
      "outputs": []
    },
    {
      "cell_type": "code",
      "metadata": {
        "id": "zvJIckVMxRPb",
        "colab_type": "code",
        "colab": {}
      },
      "source": [
        "data.plot(x='RM', y='AGE', kind='scatter')"
      ],
      "execution_count": 0,
      "outputs": []
    },
    {
      "cell_type": "code",
      "metadata": {
        "id": "ynE3D6MwyTHj",
        "colab_type": "code",
        "colab": {}
      },
      "source": [
        "boston_model = LinearRegression()\n",
        "boston_model.fit(data, target)\n",
        "sample_house = [[2.29690000e-01, 0.00000000e+00, 1.05900000e+01, 0.00000000e+00, 4.89000000e-01,\n",
        "                6.32600000e+00, 5.25000000e+01, 4.35490000e+00, 4.00000000e+00, 2.77000000e+02,\n",
        "                1.86000000e+01, 3.94870000e+02, 1.09700000e+01]]\n",
        "prediction = boston_model.predict(sample_house)"
      ],
      "execution_count": 0,
      "outputs": []
    },
    {
      "cell_type": "markdown",
      "metadata": {
        "id": "UTw3NwLB79f8",
        "colab_type": "text"
      },
      "source": [
        "# **Polynomial Regression**"
      ]
    },
    {
      "cell_type": "code",
      "metadata": {
        "id": "viId25i978Vs",
        "colab_type": "code",
        "outputId": "1201658c-105b-43be-f833-bf2063e15103",
        "colab": {
          "base_uri": "https://localhost:8080/",
          "height": 301
        }
      },
      "source": [
        "from sklearn.preprocessing import PolynomialFeatures\n",
        "polyNomialData = pd.read_csv('data.csv')\n",
        "type(polyNomialData)\n",
        "polyNomialData.plot(x='Var_X', y='Var_Y', kind='scatter')"
      ],
      "execution_count": 0,
      "outputs": [
        {
          "output_type": "execute_result",
          "data": {
            "text/plain": [
              "<matplotlib.axes._subplots.AxesSubplot at 0x7f1f87098e48>"
            ]
          },
          "metadata": {
            "tags": []
          },
          "execution_count": 35
        },
        {
          "output_type": "display_data",
          "data": {
            "image/png": "[encoded data removed]",
            "text/plain": [
              "<Figure size 432x288 with 1 Axes>"
            ]
          },
          "metadata": {
            "tags": []
          }
        }
      ]
    },
    {
      "cell_type": "code",
      "metadata": {
        "id": "HBTzm-yV_s-R",
        "colab_type": "code",
        "colab": {}
      },
      "source": [
        "X = polyNomialData['Var_X'].values.reshape(-1, 1)\n",
        "y = polyNomialData['Var_Y'].values\n",
        "poly_feat = PolynomialFeatures(degree = 2)\n",
        "X_poly = poly_feat.fit_transform(X)\n",
        "poly_model = LinearRegression(fit_intercept=False).fit(X_poly, y)"
      ],
      "execution_count": 0,
      "outputs": []
    },
    {
      "cell_type": "markdown",
      "metadata": {
        "id": "e7RlZSoPMQNh",
        "colab_type": "text"
      },
      "source": [
        "# **Regularization**"
      ]
    },
    {
      "cell_type": "code",
      "metadata": {
        "id": "TGbebiiGDDHs",
        "colab_type": "code",
        "colab": {}
      },
      "source": [
        "from sklearn.linear_model import Lasso\n",
        "lassoData = pd.read_csv('lassoData.csv', header = None)\n",
        "lassoData.describe()\n",
        "X = lassoData.iloc[:, :-1]\n",
        "y = lassoData.iloc[:, -1]"
      ],
      "execution_count": 0,
      "outputs": []
    },
    {
      "cell_type": "code",
      "metadata": {
        "id": "iw-Z1N2YRsFG",
        "colab_type": "code",
        "colab": {
          "base_uri": "https://localhost:8080/",
          "height": 50
        },
        "outputId": "0cf90860-c182-41ac-b091-fc08109e620d"
      },
      "source": [
        "lasso_reg = Lasso()\n",
        "lasso_reg.fit(X, y)\n",
        "reg_coef = lasso_reg.coef_\n",
        "reg_coef"
      ],
      "execution_count": 82,
      "outputs": [
        {
          "output_type": "execute_result",
          "data": {
            "text/plain": [
              "array([ 0.        ,  2.35793224,  2.00441646, -0.05511954, -3.92808318,\n",
              "        0.        ])"
            ]
          },
          "metadata": {
            "tags": []
          },
          "execution_count": 82
        }
      ]
    }
  ]
}